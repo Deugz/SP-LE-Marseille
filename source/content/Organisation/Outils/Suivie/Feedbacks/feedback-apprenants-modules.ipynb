{
 "cells": [
  {
   "cell_type": "markdown",
   "id": "039f29f3-8899-44d8-9bc4-4ad79f3bfaf9",
   "metadata": {
    "user_expressions": []
   },
   "source": [
    "# Feedbacks Apprenants (Module)\n",
    "\n",
    "Ce Jupyter notebook est dédié a la gestion et au suivie des feedbacks des apprenants\n",
    "\n",
    "## Process\n",
    "\n",
    "Chaque fin de semaine exporter le rapport (fichier excel), et lancer l'analyse \n",
    "- créer un rapport a envoyer au formateur"
   ]
  },
  {
   "cell_type": "code",
   "execution_count": null,
   "id": "9a9989ab-fdc0-41ed-9549-15302787a984",
   "metadata": {},
   "outputs": [],
   "source": []
  }
 ],
 "metadata": {
  "kernelspec": {
   "display_name": "Python 3 (ipykernel)",
   "language": "python",
   "name": "python3"
  },
  "language_info": {
   "codemirror_mode": {
    "name": "ipython",
    "version": 3
   },
   "file_extension": ".py",
   "mimetype": "text/x-python",
   "name": "python",
   "nbconvert_exporter": "python",
   "pygments_lexer": "ipython3",
   "version": "3.9.13"
  }
 },
 "nbformat": 4,
 "nbformat_minor": 5
}
