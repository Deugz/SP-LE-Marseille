{
 "cells": [
  {
   "cell_type": "markdown",
   "id": "15800fee-49a4-474e-b144-7dae43fc757d",
   "metadata": {},
   "source": [
    "# Analyse Feedback Prepa"
   ]
  },
  {
   "cell_type": "code",
   "execution_count": null,
   "id": "fc8754d8-ff26-46e7-903b-57003f7e8a80",
   "metadata": {},
   "outputs": [],
   "source": []
  }
 ],
 "metadata": {
  "kernelspec": {
   "display_name": "Python [conda env:base] *",
   "language": "python",
   "name": "conda-base-py"
  },
  "language_info": {
   "codemirror_mode": {
    "name": "ipython",
    "version": 3
   },
   "file_extension": ".py",
   "mimetype": "text/x-python",
   "name": "python",
   "nbconvert_exporter": "python",
   "pygments_lexer": "ipython3",
   "version": "3.12.7"
  }
 },
 "nbformat": 4,
 "nbformat_minor": 5
}
