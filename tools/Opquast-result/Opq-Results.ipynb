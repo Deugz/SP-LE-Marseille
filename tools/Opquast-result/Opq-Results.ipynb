{
 "cells": [
  {
   "cell_type": "markdown",
   "id": "49b6d4e8-8b24-4af3-b970-a28d35dc5e0a",
   "metadata": {},
   "source": [
    "# Opquast Results\n",
    "\n",
    "J'aimerai beaucoup récupérer et analyser les données pour comparer les différentes promos !\n",
    "\n",
    "```{admonition} Et pourquoi donc ?\n",
    "\n",
    "Eh bien pour l'amélioration continue et le bilan interpromo\n",
    "\n",
    "- Faire des liens vers section correspondante\n",
    "\n",
    "```\n",
    "\n",
    "## Récupération des données\n",
    "\n",
    "- Dans le dossier Data/\n",
    "\n",
    "```{note}\n",
    "\n",
    "Récupérer le résultats de noisy pour comparaison (Evolution)\n",
    "\n",
    "```"
   ]
  },
  {
   "cell_type": "code",
   "execution_count": null,
   "id": "e1cc5ea1-7a58-4586-8eaa-1d99ad4aa349",
   "metadata": {},
   "outputs": [],
   "source": []
  }
 ],
 "metadata": {
  "kernelspec": {
   "display_name": "Python [conda env:base] *",
   "language": "python",
   "name": "conda-base-py"
  },
  "language_info": {
   "codemirror_mode": {
    "name": "ipython",
    "version": 3
   },
   "file_extension": ".py",
   "mimetype": "text/x-python",
   "name": "python",
   "nbconvert_exporter": "python",
   "pygments_lexer": "ipython3",
   "version": "3.12.7"
  }
 },
 "nbformat": 4,
 "nbformat_minor": 5
}
